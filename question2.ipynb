{
 "cells": [
  {
   "cell_type": "code",
   "execution_count": 3,
   "metadata": {},
   "outputs": [
    {
     "data": {
      "text/plain": [
       "1"
      ]
     },
     "execution_count": 3,
     "metadata": {},
     "output_type": "execute_result"
    }
   ],
   "source": [
    "import numpy as np\n",
    "from scipy import optimize\n",
    "\n",
    "\n",
    "def main2(x,y):\n",
    "    \n",
    "    [a,b]=np.polyfit(x,np.log(y),1,w=np.sqrt(y))\n",
    "    y_hat=np.exp((a*x)+b)\n",
    "    error=np.absolute((y-y_hat)/y)\n",
    "    index_max_error=np.argmax(error)+1\n",
    "    return index_max_error\n",
    "\n",
    "np.random.seed(0)\n",
    "x_data=np.linspace(-2,2,num=99)\n",
    "y_data=np.exp((5*x_data)+10)\n",
    "x_data=np.insert(x_data,15,7)\n",
    "y_data=np.insert(y_data,15,4e10)\n",
    "main2(x_data,y_data)"
   ]
  },
  {
   "cell_type": "code",
   "execution_count": null,
   "metadata": {},
   "outputs": [],
   "source": []
  }
 ],
 "metadata": {
  "kernelspec": {
   "display_name": "Python 3",
   "language": "python",
   "name": "python3"
  },
  "language_info": {
   "codemirror_mode": {
    "name": "ipython",
    "version": 3
   },
   "file_extension": ".py",
   "mimetype": "text/x-python",
   "name": "python",
   "nbconvert_exporter": "python",
   "pygments_lexer": "ipython3",
   "version": "3.6.8"
  }
 },
 "nbformat": 4,
 "nbformat_minor": 2
}

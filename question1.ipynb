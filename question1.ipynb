{
 "cells": [
  {
   "cell_type": "code",
   "execution_count": 57,
   "metadata": {},
   "outputs": [
    {
     "data": {
      "text/plain": [
       "41"
      ]
     },
     "execution_count": 57,
     "metadata": {},
     "output_type": "execute_result"
    }
   ],
   "source": [
    "import numpy as np\n",
    "from scipy import optimize\n",
    "\n",
    "np.random.seed(0)\n",
    "x_data=np.linspace(-5,5,num=99)\n",
    "y_data=np.square(np.sin((0.5*x_data)+1))\n",
    "x_data=np.insert(x_data,45,7)\n",
    "y_data=np.insert(y_data,45,0.8)\n",
    "def main1(x_data,y_data):\n",
    "    \n",
    "    def test(x_data,a,b):\n",
    "        return np.square(np.sin((a*x_data)+b))\n",
    "    params,_=optimize.curve_fit(test,x_data,y_data,p0 = [2,2])\n",
    "    [a,b]=params\n",
    "    y_hat=np.square(np.sin((a*x_data)+b))\n",
    "    error=np.absolute(y_data-y_hat)\n",
    "    index_max_error=np.argmax(error)+1\n",
    "    return index_max_error\n",
    "x=np.linspace(-2,2,num=99)\n",
    "y=np.square(np.sin((3*x)+1))\n",
    "main1(x,y)"
   ]
  },
  {
   "cell_type": "code",
   "execution_count": 55,
   "metadata": {},
   "outputs": [],
   "source": []
  },
  {
   "cell_type": "code",
   "execution_count": null,
   "metadata": {},
   "outputs": [],
   "source": []
  },
  {
   "cell_type": "code",
   "execution_count": null,
   "metadata": {},
   "outputs": [],
   "source": []
  }
 ],
 "metadata": {
  "kernelspec": {
   "display_name": "Python 3",
   "language": "python",
   "name": "python3"
  },
  "language_info": {
   "codemirror_mode": {
    "name": "ipython",
    "version": 3
   },
   "file_extension": ".py",
   "mimetype": "text/x-python",
   "name": "python",
   "nbconvert_exporter": "python",
   "pygments_lexer": "ipython3",
   "version": "3.6.8"
  }
 },
 "nbformat": 4,
 "nbformat_minor": 2
}
